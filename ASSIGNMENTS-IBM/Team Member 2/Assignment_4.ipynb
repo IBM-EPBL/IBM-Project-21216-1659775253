{
  "nbformat": 4,
  "nbformat_minor": 0,
  "metadata": {
    "colab": {
      "provenance": [],
      "collapsed_sections": []
    },
    "kernelspec": {
      "name": "python3",
      "display_name": "Python 3"
    },
    "language_info": {
      "name": "python"
    }
  },
  "cells": [
    {
      "cell_type": "markdown",
      "source": [
        "Download the dataset"
      ],
      "metadata": {
        "id": "TiH_96xlI0jF"
      }
    },
    {
      "cell_type": "code",
      "execution_count": null,
      "metadata": {
        "colab": {
          "base_uri": "https://localhost:8080/"
        },
        "id": "Jhx-_wwvHWRU",
        "outputId": "fee1551d-efa0-4b52-9774-47a3ef03dd5f"
      },
      "outputs": [
        {
          "output_type": "stream",
          "name": "stdout",
          "text": [
            "Mounted at /content/drive\n"
          ]
        }
      ],
      "source": [
        "from google.colab import drive\n",
        "drive.mount('/content/drive')"
      ]
    },
    {
      "cell_type": "markdown",
      "source": [
        "Import the required library"
      ],
      "metadata": {
        "id": "6cFpV7A2Ic2Q"
      }
    },
    {
      "cell_type": "code",
      "source": [
        "import pandas as pd\n",
        "import numpy as np\n",
        "import matplotlib.pyplot as plt\n",
        "import seaborn as sns\n",
        "from sklearn.model_selection import train_test_split\n",
        "from sklearn.preprocessing import LabelEncoder\n",
        "from tensorflow.keras.models import Model\n",
        "from tensorflow.keras.layers import LSTM,Activation, Dense, Dropout, Input,Embedding\n",
        "from tensorflow.keras.optimizers import RMSprop\n",
        "from tensorflow.keras.preprocessing.text import Tokenizer\n",
        "from tensorflow.keras.preprocessing import sequence\n",
        "from tensorflow.keras.utils import to_categorical\n",
        "from tensorflow.keras.callbacks import EarlyStopping"
      ],
      "metadata": {
        "id": "LKqZxMc3IgLL"
      },
      "execution_count": null,
      "outputs": []
    },
    {
      "cell_type": "markdown",
      "source": [
        "Read the dataset"
      ],
      "metadata": {
        "id": "gJMo4ArvJHYz"
      }
    },
    {
      "cell_type": "code",
      "source": [
        "import csv\n",
        "with open('/content/drive/MyDrive/Colab Notebooks/spam.csv', 'r') as csvfile:\n",
        "  reader = csv.reader(csvfile)"
      ],
      "metadata": {
        "id": "5rKK56BbLbOp"
      },
      "execution_count": null,
      "outputs": []
    },
    {
      "cell_type": "code",
      "source": [
        "df = pd.read_csv(r'/content/drive/MyDrive/Colab Notebooks/spam.csv',encoding='latin-1')\n",
        "df"
      ],
      "metadata": {
        "id": "IzlaUk8qLf2s"
      },
      "execution_count": null,
      "outputs": []
    },
    {
      "cell_type": "markdown",
      "source": [
        "Pre processing"
      ],
      "metadata": {
        "id": "GwitOhRoUyds"
      }
    },
    {
      "cell_type": "code",
      "source": [
        "df.drop(['Unnamed: 2', 'Unnamed: 3', 'Unnamed: 4'],axis=1,inplace=True)\n",
        "df.info()"
      ],
      "metadata": {
        "id": "KZAF8O_yVDQ0"
      },
      "execution_count": null,
      "outputs": []
    },
    {
      "cell_type": "markdown",
      "source": [
        "RangeIndex: 5572 entries, 0 to 5571\n",
        "Data columns (total 2 columns):\n",
        " #   Column  Non-Null Count  Dtype \n",
        "---  ------  --------------  ----- \n",
        " 0   v1      5572 non-null   object\n",
        " 1   v2      5572 non-null   object\n",
        "dtypes: object(2)\n",
        "memory usage: 87.2+ KB"
      ],
      "metadata": {
        "id": "l7XNg1nLVR6Q"
      }
    },
    {
      "cell_type": "markdown",
      "source": [
        "Count the spam and ham"
      ],
      "metadata": {
        "id": "e68vbSJpVahB"
      }
    },
    {
      "cell_type": "code",
      "source": [
        "sns.countplot(df.v1)"
      ],
      "metadata": {
        "id": "DCi7atkEVgXz"
      },
      "execution_count": null,
      "outputs": []
    },
    {
      "cell_type": "code",
      "source": [
        "/usr/local/lib/python3.7/dist-packages/seaborn/_decorators.py:43: FutureWarning: Pass the following variable as a keyword arg: x. From version 0.12, the only valid positional argument will be `data`, and passing other arguments without an explicit keyword will result in an error or misinterpretation.\n",
        "  FutureWarning"
      ],
      "metadata": {
        "id": "erno9aM7W7Ld"
      },
      "execution_count": null,
      "outputs": []
    },
    {
      "cell_type": "code",
      "source": [
        "X = df.v2\n",
        "Y = df.v1\n",
        "le = LabelEncoder()\n",
        "Y = le.fit_transform(Y)\n",
        "Y = Y.reshape(-1,1)\n",
        "X_train,X_test,Y_train,Y_test = train_test_split(X,Y,test_size=0.20)\n",
        "max_words = 1000\n",
        "max_len = 150\n",
        "tok = Tokenizer(num_words=max_words)\n",
        "tok.fit_on_texts(X_train)\n",
        "sequences = tok.texts_to_sequences(X_train)\n",
        "sequences_matrix = sequence.pad_sequences(sequences,maxlen=max_len)"
      ],
      "metadata": {
        "id": "GdiCC58KW8PK"
      },
      "execution_count": null,
      "outputs": []
    },
    {
      "cell_type": "markdown",
      "source": [
        "Create Model and add Layers (LSTM,Dense-(Hidden Layers), Output)"
      ],
      "metadata": {
        "id": "5Op-_H_NXFRw"
      }
    },
    {
      "cell_type": "code",
      "source": [
        "def RNN():\n",
        "  inputs = Input(name='inputs',shape=[max_len])\n",
        "  layer = Embedding(max_words,50,input_length=max_len)(inputs)\n",
        "  layer = LSTM(128)(layer)\n",
        "  layer = Dense(256,name='FC1')(layer)\n",
        "  layer = Activation('relu')(layer)\n",
        "  layer = Dropout(0.5)(layer)\n",
        "  layer = Dense(1,name='out_layer')(layer)\n",
        "  layer = Activation('tanh')(layer)\n",
        "  model = Model(inputs=inputs,outputs=layer)\n",
        "  return model"
      ],
      "metadata": {
        "id": "CyB111gHXR8U"
      },
      "execution_count": null,
      "outputs": []
    },
    {
      "cell_type": "markdown",
      "source": [
        "Compile the Model"
      ],
      "metadata": {
        "id": "WHQun86pXV6A"
      }
    },
    {
      "cell_type": "code",
      "source": [
        "model = RNN()\n",
        "model.summary()\n",
        "model.compile(loss='binary_crossentropy',optimizer=RMSprop(),metrics=['accuracy','mse','mae'])"
      ],
      "metadata": {
        "id": "8khXSqACXah6"
      },
      "execution_count": null,
      "outputs": []
    },
    {
      "cell_type": "markdown",
      "source": [
        "Model: \"model_2\"\n",
        "_________________________________________________________________\n",
        " Layer (type)                Output Shape              Param #   \n",
        "=================================================================\n",
        " inputs (InputLayer)         [(None, 150)]             0         \n",
        "                                                                 \n",
        " embedding_2 (Embedding)     (None, 150, 50)           50000     \n",
        "                                                                 \n",
        " lstm_2 (LSTM)               (None, 128)               91648     \n",
        "                                                                 \n",
        " FC1 (Dense)                 (None, 256)               33024     \n",
        "                                                                 \n",
        " activation_4 (Activation)   (None, 256)               0         \n",
        "                                                                 \n",
        " dropout_2 (Dropout)         (None, 256)               0         \n",
        "                                                                 \n",
        " out_layer (Dense)           (None, 1)                 257       \n",
        "                                                                 \n",
        " activation_5 (Activation)   (None, 1)                 0         \n",
        "                                                                 \n",
        "=================================================================\n",
        "Total params: 174,929\n",
        "Trainable params: 174,929\n",
        "Non-trainable params: 0\n",
        "_________________________________________________________________"
      ],
      "metadata": {
        "id": "46cGYi8oXhZD"
      }
    },
    {
      "cell_type": "markdown",
      "source": [
        "Fit the Model"
      ],
      "metadata": {
        "id": "fMsHxyy1XoA_"
      }
    },
    {
      "cell_type": "code",
      "source": [
        "model.fit(sequences_matrix,Y_train,batch_size=128,epochs=10,validation_split=0.2)"
      ],
      "metadata": {
        "id": "2y20nD-xXpgC"
      },
      "execution_count": null,
      "outputs": []
    },
    {
      "cell_type": "markdown",
      "source": [
        "Epoch 1/10\n",
        "28/28 [==============================] - 16s 568ms/step - loss: 13.2345 - accuracy: 0.1321 - mse: 0.8679 - mae: 0.8679 - val_loss: 13.2149 - val_accuracy: 0.1334 - val_mse: 0.8666 - val_mae: 0.8666\n",
        "Epoch 2/10\n",
        "28/28 [==============================] - 27s 967ms/step - loss: 13.2345 - accuracy: 0.1321 - mse: 0.8679 - mae: 0.8679 - val_loss: 13.2149 - val_accuracy: 0.1334 - val_mse: 0.8666 - val_mae: 0.8666\n",
        "Epoch 3/10\n",
        "28/28 [==============================] - 15s 536ms/step - loss: 13.2345 - accuracy: 0.1321 - mse: 0.8679 - mae: 0.8679 - val_loss: 13.2149 - val_accuracy: 0.1334 - val_mse: 0.8666 - val_mae: 0.8666\n",
        "Epoch 4/10\n",
        "28/28 [==============================] - 15s 533ms/step - loss: 13.2345 - accuracy: 0.1321 - mse: 0.8679 - mae: 0.8679 - val_loss: 13.2149 - val_accuracy: 0.1334 - val_mse: 0.8666 - val_mae: 0.8666\n",
        "Epoch 5/10\n",
        "28/28 [==============================] - 15s 536ms/step - loss: 13.2345 - accuracy: 0.1321 - mse: 0.8679 - mae: 0.8679 - val_loss: 13.2149 - val_accuracy: 0.1334 - val_mse: 0.8666 - val_mae: 0.8666\n",
        "Epoch 6/10\n",
        "28/28 [==============================] - 15s 532ms/step - loss: 13.2345 - accuracy: 0.1321 - mse: 0.8679 - mae: 0.8679 - val_loss: 13.2149 - val_accuracy: 0.1334 - val_mse: 0.8666 - val_mae: 0.8666\n",
        "Epoch 7/10\n",
        "28/28 [==============================] - 15s 538ms/step - loss: 13.2345 - accuracy: 0.1321 - mse: 0.8679 - mae: 0.8679 - val_loss: 13.2149 - val_accuracy: 0.1334 - val_mse: 0.8666 - val_mae: 0.8666\n",
        "Epoch 8/10\n",
        "28/28 [==============================] - 16s 556ms/step - loss: 13.2345 - accuracy: 0.1321 - mse: 0.8679 - mae: 0.8679 - val_loss: 13.2149 - val_accuracy: 0.1334 - val_mse: 0.8666 - val_mae: 0.8666\n",
        "Epoch 9/10\n",
        "28/28 [==============================] - 16s 570ms/step - loss: 13.2345 - accuracy: 0.1321 - mse: 0.8679 - mae: 0.8679 - val_loss: 13.2149 - val_accuracy: 0.1334 - val_mse: 0.8666 - val_mae: 0.8666\n",
        "Epoch 10/10\n",
        "28/28 [==============================] - 15s 532ms/step - loss: 13.2345 - accuracy: 0.1321 - mse: 0.8679 - mae: 0.8679 - val_loss: 13.2149 - val_accuracy: 0.1334 - val_mse: 0.8666 - val_mae: 0.8666"
      ],
      "metadata": {
        "id": "RUoH-OxwXtP-"
      }
    },
    {
      "cell_type": "markdown",
      "source": [
        "Save the Model"
      ],
      "metadata": {
        "id": "5mdHhgyvX3JV"
      }
    },
    {
      "cell_type": "code",
      "source": [
        "model.save(\"/assignment4_model.h5\")"
      ],
      "metadata": {
        "id": "x7j6o1egX5VW"
      },
      "execution_count": null,
      "outputs": []
    },
    {
      "cell_type": "markdown",
      "source": [
        "Test The Model"
      ],
      "metadata": {
        "id": "34SngOkCYDjN"
      }
    },
    {
      "cell_type": "code",
      "source": [
        "test_sequences = tok.texts_to_sequences(X_test)\n",
        "test_sequences_matrix = sequence.pad_sequences(test_sequences,maxlen=max_len)\n",
        "accr = model.evaluate(test_sequences_matrix,Y_test)\n",
        "print('Test set\\n Loss: {:0.3f}\\n Accuracy:{:0.3f}'.format(accr[0],accr[1]))"
      ],
      "metadata": {
        "id": "oXtmt4NWYHN3"
      },
      "execution_count": null,
      "outputs": []
    },
    {
      "cell_type": "markdown",
      "source": [
        "35/35 [==============================] - 5s 129ms/step - loss: 13.0747 - accuracy: 0.1426 - mse: 0.8575 - mae: 0.8578\n",
        "Test set\n",
        " Loss: 13.075\n",
        " Accuracy:0.143"
      ],
      "metadata": {
        "id": "hkeuUY1xYP2m"
      }
    },
    {
      "cell_type": "code",
      "source": [
        "from tensorflow.keras.models import load_model\n",
        "m2 = load_model(\"/assignment4_model.h5\")\n",
        "m2.evaluate(test_sequences_matrix,Y_test)"
      ],
      "metadata": {
        "id": "RrIzN7w1YUpe"
      },
      "execution_count": null,
      "outputs": []
    },
    {
      "cell_type": "markdown",
      "source": [
        "35/35 [==============================] - 3s 79ms/step - loss: 0.0989 - accuracy: 0.9865 - mse: 0.0216 - mae: 0.1009\n",
        "[0.09894020110368729,\n",
        " 0.9865471124649048,\n",
        " 0.021568873897194862,\n",
        " 0.10085303336381912]"
      ],
      "metadata": {
        "id": "6AqrFGwyYY4R"
      }
    }
  ]
}